{
 "cells": [
  {
   "cell_type": "code",
   "execution_count": 10,
   "metadata": {},
   "outputs": [
    {
     "data": {
      "text/plain": [
       "<Figure size 1152x504 with 0 Axes>"
      ]
     },
     "metadata": {},
     "output_type": "display_data"
    }
   ],
   "source": [
    "import numpy as np\n",
    "import pandas as pd\n",
    "import seaborn as sns\n",
    "import matplotlib.pyplot as plt\n",
    "import nltk\n",
    "from keras.preprocessing import text, sequence\n",
    "from sklearn.metrics import classification_report,confusion_matrix,accuracy_score\n",
    "from sklearn.model_selection import train_test_split\n",
    "import keras\n",
    "from keras.models import Sequential\n",
    "from keras.layers import Dense,Embedding,LSTM,Dropout,Bidirectional,GRU\n",
    "import tensorflow as tf\n",
    "from SentimentAnaylsisUtility import SentimentAnaylsisUtility\n",
    "import pickle\n",
    "from tqdm._tqdm_notebook import tqdm_notebook\n",
    "from tqdm import tqdm\n",
    "from sklearn.metrics import classification_report,confusion_matrix,accuracy_score\n",
    "from sklearn.model_selection import train_test_split\n",
    "tqdm_notebook.pandas()\n",
    "from nltk.tokenize import word_tokenize\n",
    "import nltk\n",
    "import pickle\n",
    "from nltk import corpus\n",
    "from sklearn.metrics import precision_recall_fscore_support as score\n",
    "from sklearn.metrics import accuracy_score\n",
    "utility = SentimentAnaylsisUtility()"
   ]
  },
  {
   "cell_type": "code",
   "execution_count": 2,
   "metadata": {},
   "outputs": [
    {
     "name": "stdout",
     "output_type": "stream",
     "text": [
      "Wall time: 0 ns\n"
     ]
    }
   ],
   "source": [
    "%%time\n",
    "import re\n",
    "def remove_URL(text):\n",
    "    url = re.compile(r\"https?://\\S+|www\\.\\S+\")\n",
    "    return url.sub(r\"\", text)\n",
    "\n",
    "\n",
    "def remove_html(text):\n",
    "    html = re.compile(r\"<.*?>\")\n",
    "    return html.sub(r\"\", text)\n",
    "\n",
    "def create_corpus_tk(df):\n",
    "    corpus = []\n",
    "    for text in train_df[\"headline\"]:\n",
    "        words = [word.lower() for word in word_tokenize(text)]\n",
    "        corpus.append(words)\n",
    "    return corpus\n",
    "\n",
    "def get_weight_matrix(model, vocab):\n",
    "    vocab_size = len(vocab) + 1\n",
    "    weight_matrix = np.zeros((vocab_size, EMBEDDING_DIM))\n",
    "    for word, i in vocab.items():\n",
    "        weight_matrix[i] = model[word]\n",
    "    return weight_matrix\n",
    "\n",
    "def getConfusionMatrixScore(y_test,y_pred):\n",
    "    cm = confusion_matrix(y_test,y_pred)\n",
    "    TN = cm[0][0]\n",
    "    FN = cm[1][0]\n",
    "    TP = cm[1][1]\n",
    "    FP = cm[0][1]\n",
    "    sensitivity  = TP / (TP+FN)\n",
    "    specificity  = TN / (TN+FP)\n",
    "    pos_pred_val = TP/ (TP+FP)\n",
    "    neg_pred_val = TN/ (TN+FN)\n",
    "    return round(sensitivity,3),round(specificity,3),round(pos_pred_val,3),round(neg_pred_val,3)"
   ]
  },
  {
   "cell_type": "code",
   "execution_count": 3,
   "metadata": {},
   "outputs": [
    {
     "data": {
      "application/vnd.jupyter.widget-view+json": {
       "model_id": "d4787a2642a44301b434495c9e6ddce2",
       "version_major": 2,
       "version_minor": 0
      },
      "text/plain": [
       "HBox(children=(FloatProgress(value=0.0, max=500.0), HTML(value='')))"
      ]
     },
     "metadata": {},
     "output_type": "display_data"
    },
    {
     "name": "stdout",
     "output_type": "stream",
     "text": [
      "\n"
     ]
    },
    {
     "data": {
      "application/vnd.jupyter.widget-view+json": {
       "model_id": "cf94098e1ae14b4c87e88b8df6a38779",
       "version_major": 2,
       "version_minor": 0
      },
      "text/plain": [
       "HBox(children=(FloatProgress(value=0.0, max=500.0), HTML(value='')))"
      ]
     },
     "metadata": {},
     "output_type": "display_data"
    },
    {
     "name": "stdout",
     "output_type": "stream",
     "text": [
      "\n"
     ]
    },
    {
     "data": {
      "application/vnd.jupyter.widget-view+json": {
       "model_id": "8352c6ee3ada45178455d85fa19d9299",
       "version_major": 2,
       "version_minor": 0
      },
      "text/plain": [
       "HBox(children=(FloatProgress(value=0.0, max=500.0), HTML(value='')))"
      ]
     },
     "metadata": {},
     "output_type": "display_data"
    },
    {
     "name": "stdout",
     "output_type": "stream",
     "text": [
      "\n",
      "Wall time: 588 ms\n"
     ]
    },
    {
     "data": {
      "image/png": "[encoded data removed]",
      "text/plain": [
       "<Figure size 432x288 with 1 Axes>"
      ]
     },
     "metadata": {},
     "output_type": "display_data"
    }
   ],
   "source": [
    "%%time\n",
    "train_df = pd.read_json(\"Sarcasm_Headlines_Dataset_v2.json\", lines=True)\n",
    "train_df=train_df[:500]\n",
    "train_df.drop(columns='article_link',inplace=True)\n",
    "train_df['headline'] = train_df['headline'].progress_apply(lambda x:utility.remove_URL(x))\n",
    "train_df['headline'] = train_df['headline'].progress_apply(lambda x:utility.remove_html(x))\n",
    "train_df['headline'] = train_df['headline'].progress_apply(lambda x:utility.spacy_pre_processing(x))\n",
    "sns.countplot(train_df.is_sarcastic)\n",
    "    \n",
    "scoringDF = pd.DataFrame(columns = ['Model', 'Accuracy', 'Precision','Recall','Fscore','Sensitivity','Specificity','Pos_pred_val','Neg_pred_val']) \n",
    "  "
   ]
  },
  {
   "cell_type": "code",
   "execution_count": 4,
   "metadata": {},
   "outputs": [
    {
     "name": "stdout",
     "output_type": "stream",
     "text": [
      "Wall time: 1min 14s\n"
     ]
    }
   ],
   "source": [
    "%%time\n",
    "x_train,x_test,y_train,y_test = train_test_split(train_df.headline,train_df.is_sarcastic, test_size = 0.3 , random_state = 0)\n",
    "max_features = 35000\n",
    "maxlen = 200\n",
    "tokenizer = text.Tokenizer(num_words=max_features)\n",
    "tokenizer.fit_on_texts(x_train)\n",
    "tokenized_train = tokenizer.texts_to_sequences(x_train)\n",
    "x_train = sequence.pad_sequences(tokenized_train, maxlen=maxlen)\n",
    "tokenized_test = tokenizer.texts_to_sequences(x_test)\n",
    "x_test = sequence.pad_sequences(tokenized_test, maxlen=maxlen)\n",
    "word_index = tokenizer.word_index\n",
    "corpus = create_corpus_tk(train_df)\n",
    "num_words = len(corpus)\n",
    "\n",
    "embedding_dict = {}\n",
    "with open(\"glove.twitter.27B.100d.txt\", encoding=\"utf-8\") as f:\n",
    "    for line in f:\n",
    "        values = line.split()\n",
    "        word = values[0]\n",
    "        vectors = np.asarray(values[1:], \"float32\")\n",
    "        embedding_dict[word] = vectors\n",
    "f.close()\n",
    "\n",
    "num_words = len(word_index) + 1\n",
    "embedding_matrix = np.zeros((num_words, 100))\n",
    "\n",
    "for word, i in word_index.items():\n",
    "    if i < num_words:\n",
    "        emb_vec = embedding_dict.get(word)\n",
    "        if emb_vec is not None:\n",
    "            embedding_matrix[i] = emb_vec"
   ]
  },
  {
   "cell_type": "code",
   "execution_count": 5,
   "metadata": {},
   "outputs": [
    {
     "name": "stdout",
     "output_type": "stream",
     "text": [
      "Model: \"sequential\"\n",
      "_________________________________________________________________\n",
      "Layer (type)                 Output Shape              Param #   \n",
      "=================================================================\n",
      "embedding (Embedding)        (None, 200, 100)          185200    \n",
      "_________________________________________________________________\n",
      "bidirectional (Bidirectional (None, 200, 256)          234496    \n",
      "_________________________________________________________________\n",
      "bidirectional_1 (Bidirection (None, 64)                55680     \n",
      "_________________________________________________________________\n",
      "dense (Dense)                (None, 1)                 65        \n",
      "=================================================================\n",
      "Total params: 475,441\n",
      "Trainable params: 475,441\n",
      "Non-trainable params: 0\n",
      "_________________________________________________________________\n",
      "Wall time: 645 ms\n"
     ]
    }
   ],
   "source": [
    "%%time\n",
    "batch_size = 128\n",
    "epochs = 10\n",
    "embed_size = 100\n",
    "glove_model = Sequential()\n",
    "glove_model.add(Embedding(num_words, output_dim=embed_size, weights=[embedding_matrix], input_length=maxlen, trainable=True))\n",
    "glove_model.add(Bidirectional(LSTM(units=128 , recurrent_dropout = 0.3 , dropout = 0.3,return_sequences = True)))\n",
    "glove_model.add(Bidirectional(GRU(units=32 , recurrent_dropout = 0.1 , dropout = 0.1)))\n",
    "glove_model.add(Dense(1, activation='sigmoid'))\n",
    "glove_model.compile(optimizer=keras.optimizers.Adam(lr = 0.01), loss='binary_crossentropy', metrics=['acc'])\n",
    "glove_model.summary()"
   ]
  },
  {
   "cell_type": "code",
   "execution_count": 6,
   "metadata": {},
   "outputs": [
    {
     "name": "stdout",
     "output_type": "stream",
     "text": [
      "Epoch 1/10\n",
      "3/3 [==============================] - 42s 10s/step - loss: 0.7251 - acc: 0.5440 - val_loss: 0.6482 - val_acc: 0.6133\n",
      "Epoch 2/10\n",
      "3/3 [==============================] - 22s 8s/step - loss: 0.5845 - acc: 0.7128 - val_loss: 0.6361 - val_acc: 0.6467\n",
      "Epoch 3/10\n",
      "3/3 [==============================] - 22s 8s/step - loss: 0.5366 - acc: 0.7601 - val_loss: 0.7342 - val_acc: 0.6133\n",
      "Epoch 4/10\n",
      "3/3 [==============================] - 23s 8s/step - loss: 0.2855 - acc: 0.9088 - val_loss: 0.7538 - val_acc: 0.6467\n",
      "Epoch 5/10\n",
      "3/3 [==============================] - 24s 8s/step - loss: 0.1597 - acc: 0.9473 - val_loss: 0.8305 - val_acc: 0.6667\n",
      "Epoch 6/10\n",
      "3/3 [==============================] - 24s 7s/step - loss: 0.0555 - acc: 0.9874 - val_loss: 0.9354 - val_acc: 0.6533\n",
      "Epoch 7/10\n",
      "3/3 [==============================] - 18s 6s/step - loss: 0.0231 - acc: 0.9962 - val_loss: 1.2244 - val_acc: 0.6667\n",
      "Epoch 8/10\n",
      "3/3 [==============================] - 16s 6s/step - loss: 0.0119 - acc: 0.9976 - val_loss: 1.4613 - val_acc: 0.6400\n",
      "Epoch 9/10\n",
      "3/3 [==============================] - 19s 6s/step - loss: 0.0063 - acc: 1.0000 - val_loss: 1.5751 - val_acc: 0.6533\n",
      "Epoch 10/10\n",
      "3/3 [==============================] - 17s 6s/step - loss: 0.0085 - acc: 0.9986 - val_loss: 1.5862 - val_acc: 0.6800\n",
      "Wall time: 3min 48s\n"
     ]
    }
   ],
   "source": [
    "%%time\n",
    "history = glove_model.fit(x_train, y_train, batch_size = batch_size , validation_data = (x_test,y_test) , epochs = epochs)"
   ]
  },
  {
   "cell_type": "code",
   "execution_count": 7,
   "metadata": {},
   "outputs": [
    {
     "name": "stdout",
     "output_type": "stream",
     "text": [
      "               precision    recall  f1-score   support\n",
      "\n",
      "Not Sarcastic       0.67      0.78      0.72        80\n",
      "    Sarcastic       0.69      0.57      0.62        70\n",
      "\n",
      "     accuracy                           0.68       150\n",
      "    macro avg       0.68      0.67      0.67       150\n",
      " weighted avg       0.68      0.68      0.68       150\n",
      "\n"
     ]
    }
   ],
   "source": [
    "y_pred = glove_model.predict_classes(x_test)\n",
    "print(classification_report(y_test, y_pred, target_names = ['Not Sarcastic','Sarcastic']))"
   ]
  },
  {
   "cell_type": "code",
   "execution_count": 8,
   "metadata": {},
   "outputs": [
    {
     "data": {
      "text/plain": [
       "<matplotlib.axes._subplots.AxesSubplot at 0x2568a5dffc8>"
      ]
     },
     "execution_count": 8,
     "metadata": {},
     "output_type": "execute_result"
    },
    {
     "data": {
      "image/png": "[encoded data removed]",
      "text/plain": [
       "<Figure size 720x720 with 2 Axes>"
      ]
     },
     "metadata": {},
     "output_type": "display_data"
    }
   ],
   "source": [
    "cm = confusion_matrix(y_test,y_pred)\n",
    "cm = pd.DataFrame(cm , index = ['Not Sarcastic','Sarcastic'] , columns = ['Not Sarcastic','Sarcastic'])\n",
    "plt.figure(figsize = (10,10))\n",
    "sns.heatmap(cm,cmap= \"Blues\", linecolor = 'black' , linewidth = 1 , annot = True, fmt='' , xticklabels = ['Not Sarcastic','Sarcastic'] , yticklabels = ['Not Sarcastic','Sarcastic'])"
   ]
  },
  {
   "cell_type": "code",
   "execution_count": 11,
   "metadata": {},
   "outputs": [],
   "source": [
    "precision,recall,fscore,support=score(y_test,y_pred,average='macro')\n",
    "sensitivity,specificity,pos_pred_val,neg_pred_val = getConfusionMatrixScore(y_test,y_pred)\n",
    "accuracy = accuracy_score(y_test, y_pred)\n",
    "scoringDF = scoringDF.append({'Model' : \"GloVe Model\",'Accuracy' : accuracy,\n",
    "                'Precision' : precision,'Recall' : recall,'Fscore' : fscore,'Sensitivity' : sensitivity,\n",
    "                'Specificity' : specificity,'Pos_pred_val' : pos_pred_val,'Neg_pred_val' : neg_pred_val},ignore_index=True) "
   ]
  },
  {
   "cell_type": "code",
   "execution_count": 16,
   "metadata": {},
   "outputs": [
    {
     "name": "stdout",
     "output_type": "stream",
     "text": [
      "Wall time: 1.46 s\n"
     ]
    }
   ],
   "source": [
    "%%time\n",
    "words = []\n",
    "for i in train_df.headline.values:\n",
    "    words.append(i.split())\n",
    "\n",
    "import gensim\n",
    "maxlen = 200\n",
    "EMBEDDING_DIM = 100\n",
    "epochs = 10\n",
    "w2v_model = gensim.models.Word2Vec(sentences = words , size=EMBEDDING_DIM , window = 5 , min_count = 1)\n",
    "tokenizer = text.Tokenizer(num_words=35000)\n",
    "tokenizer.fit_on_texts(words)\n",
    "tokenized_train = tokenizer.texts_to_sequences(words)\n",
    "x = sequence.pad_sequences(tokenized_train, maxlen)\n",
    "vocab_size = len(tokenizer.word_index) + 1"
   ]
  },
  {
   "cell_type": "code",
   "execution_count": 17,
   "metadata": {},
   "outputs": [
    {
     "name": "stdout",
     "output_type": "stream",
     "text": [
      "Model: \"sequential_3\"\n",
      "_________________________________________________________________\n",
      "Layer (type)                 Output Shape              Param #   \n",
      "=================================================================\n",
      "embedding_1 (Embedding)      (None, 200, 100)          245800    \n",
      "_________________________________________________________________\n",
      "bidirectional_2 (Bidirection (None, 200, 256)          234496    \n",
      "_________________________________________________________________\n",
      "bidirectional_3 (Bidirection (None, 64)                55680     \n",
      "_________________________________________________________________\n",
      "dense_1 (Dense)              (None, 1)                 65        \n",
      "=================================================================\n",
      "Total params: 536,041\n",
      "Trainable params: 536,041\n",
      "Non-trainable params: 0\n",
      "_________________________________________________________________\n",
      "Wall time: 834 ms\n"
     ]
    }
   ],
   "source": [
    "%%time\n",
    "word2Vec_model = Sequential()\n",
    "embedding_vectors = get_weight_matrix(w2v_model, tokenizer.word_index)\n",
    "#Non-trainable embeddidng layer\n",
    "word2Vec_model.add(Embedding(vocab_size, output_dim=EMBEDDING_DIM, weights=[embedding_vectors], input_length=maxlen, trainable=True))\n",
    "#LSTM \n",
    "word2Vec_model.add(Bidirectional(LSTM(units=128 , recurrent_dropout = 0.3 , dropout = 0.3,return_sequences = True)))\n",
    "word2Vec_model.add(Bidirectional(GRU(units=32 , recurrent_dropout = 0.1 , dropout = 0.1)))\n",
    "word2Vec_model.add(Dense(1, activation='sigmoid'))\n",
    "word2Vec_model.compile(optimizer=keras.optimizers.Adam(lr = 0.01), loss='binary_crossentropy', metrics=['acc'])\n",
    "\n",
    "del embedding_vectors\n",
    "word2Vec_model.summary()"
   ]
  },
  {
   "cell_type": "code",
   "execution_count": null,
   "metadata": {},
   "outputs": [
    {
     "name": "stdout",
     "output_type": "stream",
     "text": [
      "Epoch 1/10\n",
      "1/3 [=========>....................] - ETA: 51s - loss: 0.6932 - acc: 0.4297"
     ]
    }
   ],
   "source": [
    "%%time\n",
    "x_train, x_test, y_train, y_test = train_test_split(x, train_df.is_sarcastic , test_size = 0.3 , random_state = 0)\n",
    "word2Vec_model_history = word2Vec_model.fit(x_train, y_train, batch_size = 128 , validation_data = (x_test,y_test) , epochs = epochs)"
   ]
  },
  {
   "cell_type": "code",
   "execution_count": null,
   "metadata": {},
   "outputs": [],
   "source": [
    "y_pred = word2Vec_model.predict_classes(x_test)\n",
    "print(classification_report(y_test, pred, target_names = ['Not Sarcastic','Sarcastic']))"
   ]
  },
  {
   "cell_type": "code",
   "execution_count": null,
   "metadata": {},
   "outputs": [],
   "source": [
    "cm = confusion_matrix(y_test,y_pred)\n",
    "cm = pd.DataFrame(cm , index = ['Not Sarcastic','Sarcastic'] , columns = ['Not Sarcastic','Sarcastic'])\n",
    "plt.figure(figsize = (10,10))\n",
    "sns.heatmap(cm,cmap= \"Blues\", linecolor = 'black' , linewidth = 1 , annot = True, fmt='' , xticklabels = ['Not Sarcastic','Sarcastic'] , yticklabels = ['Not Sarcastic','Sarcastic'])"
   ]
  },
  {
   "cell_type": "code",
   "execution_count": null,
   "metadata": {},
   "outputs": [],
   "source": [
    "precision,recall,fscore,support=score(y_test,y_pred,average='macro')\n",
    "sensitivity,specificity,pos_pred_val,neg_pred_val = getConfusionMatrixScore(y_test,y_pred)\n",
    "accuracy = accuracy_score(y_test, y_pred)\n",
    "scoringDF = scoringDF.append({'Model' : \"Word2Vec Model\",'Accuracy' : accuracy,\n",
    "                'Precision' : precision,'Recall' : recall,'Fscore' : fscore,'Sensitivity' : sensitivity,\n",
    "                'Specificity' : specificity,'Pos_pred_val' : pos_pred_val,'Neg_pred_val' : neg_pred_val},ignore_index=True) "
   ]
  },
  {
   "cell_type": "code",
   "execution_count": null,
   "metadata": {},
   "outputs": [],
   "source": [
    "from keras.models import load_model \n",
    "word2Vec_model.save(\"SarcasmDetectionWord2VecModel.h5\") \n",
    "loaded_word2Vec_model = load_model(\"SarcasmDetectionWord2VecModel.h5\") "
   ]
  },
  {
   "cell_type": "code",
   "execution_count": null,
   "metadata": {},
   "outputs": [],
   "source": [
    "glove_model.save(\"SarcasmDetectionGloveModel.h5\") \n",
    "loaded_glove_model = load_model(\"SarcasmDetectionGloveModel.h5\") "
   ]
  },
  {
   "cell_type": "code",
   "execution_count": null,
   "metadata": {},
   "outputs": [],
   "source": [
    "pickl = {\n",
    "    'tokenizer': tokenizer,\n",
    "}\n",
    "pickle.dump( pickl, open( 'SarcasmDectectionTokenizer' + \".pickle\", \"wb\" ) )"
   ]
  },
  {
   "cell_type": "code",
   "execution_count": null,
   "metadata": {},
   "outputs": [],
   "source": [
    "scoringDF\n",
    "scoringDF.style.highlight_max(color = 'pink', axis = 0)"
   ]
  }
 ],
 "metadata": {
  "kernelspec": {
   "display_name": "Python 3",
   "language": "python",
   "name": "python3"
  },
  "language_info": {
   "codemirror_mode": {
    "name": "ipython",
    "version": 3
   },
   "file_extension": ".py",
   "mimetype": "text/x-python",
   "name": "python",
   "nbconvert_exporter": "python",
   "pygments_lexer": "ipython3",
   "version": "3.7.6"
  }
 },
 "nbformat": 4,
 "nbformat_minor": 4
}
