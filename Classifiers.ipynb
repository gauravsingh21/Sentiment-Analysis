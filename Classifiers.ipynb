{
 "cells": [
  {
   "cell_type": "code",
   "execution_count": 1,
   "metadata": {},
   "outputs": [
    {
     "name": "stdout",
     "output_type": "stream",
     "text": [
      "Wall time: 11.5 s\n"
     ]
    },
    {
     "data": {
      "text/plain": [
       "<Figure size 1152x504 with 0 Axes>"
      ]
     },
     "metadata": {},
     "output_type": "display_data"
    }
   ],
   "source": [
    "%%time\n",
    "import numpy as np\n",
    "import pandas as pd\n",
    "import bz2\n",
    "import warnings,os\n",
    "from SentimentAnaylsisUtility import SentimentAnaylsisUtility\n",
    "from ScoreVecClassifier import ScoreVecClassifier\n",
    "from sklearn.feature_extraction.text import CountVectorizer, TfidfVectorizer\n",
    "from sklearn.model_selection import train_test_split\n",
    "from sklearn.metrics import accuracy_score\n",
    "from sklearn.naive_bayes import MultinomialNB, BernoulliNB\n",
    "from sklearn.linear_model import LogisticRegression, SGDClassifier\n",
    "from sklearn.svm import SVC, LinearSVC, NuSVC\n",
    "from sklearn.metrics import confusion_matrix\n",
    "from nltk.classify import ClassifierI\n",
    "from statistics import mode\n",
    "import sklearn.metrics as metrics\n",
    "from sklearn.metrics import roc_auc_score\n",
    "from sklearn.pipeline import make_pipeline\n",
    "from sklearn.model_selection import GridSearchCV\n",
    "from sklearn.metrics import accuracy_score\n",
    "from sklearn.ensemble import ExtraTreesClassifier\n",
    "from sklearn.ensemble import RandomForestClassifier\n",
    "from nltk.classify.scikitlearn import SklearnClassifier\n",
    "from sklearn.multiclass import OneVsRestClassifier\n",
    "from sklearn.metrics import classification_report\n",
    "import nltk\n",
    "import random\n",
    "import pickle\n",
    "from tqdm._tqdm_notebook import tqdm_notebook\n",
    "from tqdm import tqdm\n",
    "tqdm_notebook.pandas()\n",
    "import matplotlib.pyplot as plt\n",
    "import seaborn as sns\n",
    "from sklearn.metrics import precision_recall_fscore_support as score\n",
    "from sklearn.metrics import accuracy_score\n",
    "import ast\n",
    "import json\n",
    "\n",
    "warnings.filterwarnings('ignore')\n",
    "utility = SentimentAnaylsisUtility()"
   ]
  },
  {
   "cell_type": "code",
   "execution_count": 2,
   "metadata": {},
   "outputs": [
    {
     "name": "stdout",
     "output_type": "stream",
     "text": [
      "Wall time: 1min 45s\n"
     ]
    }
   ],
   "source": [
    "%%time\n",
    "trainfile = bz2.BZ2File('train.ft.txt.bz2','r')\n",
    "lines = trainfile.readlines()"
   ]
  },
  {
   "cell_type": "code",
   "execution_count": 3,
   "metadata": {},
   "outputs": [
    {
     "data": {
      "application/vnd.jupyter.widget-view+json": {
       "model_id": "bd59f355e403438789d23097447d4d05",
       "version_major": 2,
       "version_minor": 0
      },
      "text/plain": [
       "HBox(children=(FloatProgress(value=0.0, max=50000.0), HTML(value='')))"
      ]
     },
     "metadata": {},
     "output_type": "display_data"
    },
    {
     "name": "stdout",
     "output_type": "stream",
     "text": [
      "\n"
     ]
    },
    {
     "data": {
      "application/vnd.jupyter.widget-view+json": {
       "model_id": "73e8bccaaafc4a68912fa6cf1c058de2",
       "version_major": 2,
       "version_minor": 0
      },
      "text/plain": [
       "HBox(children=(FloatProgress(value=0.0, max=50000.0), HTML(value='')))"
      ]
     },
     "metadata": {},
     "output_type": "display_data"
    },
    {
     "name": "stdout",
     "output_type": "stream",
     "text": [
      "\n"
     ]
    },
    {
     "data": {
      "application/vnd.jupyter.widget-view+json": {
       "model_id": "ac961e1b6dc742e593ac25db4b868d59",
       "version_major": 2,
       "version_minor": 0
      },
      "text/plain": [
       "HBox(children=(FloatProgress(value=0.0, max=50000.0), HTML(value='')))"
      ]
     },
     "metadata": {},
     "output_type": "display_data"
    },
    {
     "name": "stdout",
     "output_type": "stream",
     "text": [
      "\n"
     ]
    },
    {
     "data": {
      "application/vnd.jupyter.widget-view+json": {
       "model_id": "4045bff4e8754762a2d2a0273ad460d3",
       "version_major": 2,
       "version_minor": 0
      },
      "text/plain": [
       "HBox(children=(FloatProgress(value=0.0, max=50000.0), HTML(value='')))"
      ]
     },
     "metadata": {},
     "output_type": "display_data"
    },
    {
     "name": "stdout",
     "output_type": "stream",
     "text": [
      "\n",
      "Wall time: 2min 5s\n"
     ]
    }
   ],
   "source": [
    "%%time\n",
    "train_df = pd.DataFrame() \n",
    "docSentimentList=utility.getDocumentSentimentList(lines[:50000],splitStr='__label__')\n",
    "train_df = pd.DataFrame(docSentimentList,columns=['Index','Text','Sentiment'])\n",
    "train_df.set_index(['Index'])\n",
    "train_df[[\"Sentiment\"]] = train_df[[\"Sentiment\"]].apply(pd.to_numeric)\n",
    "train_df['Text'] = train_df['Text'].progress_apply(lambda x:utility.remove_URL(x))\n",
    "train_df['Text'] = train_df['Text'].progress_apply(lambda x:utility.remove_html(x))\n",
    "train_df['Text'] = train_df['Text'].progress_apply(lambda x:utility.fix_punctuation(x))\n",
    "train_df['Pre_processed'] = train_df['Text'].progress_apply(lambda x:utility.spacy_pre_processing(x))"
   ]
  },
  {
   "cell_type": "code",
   "execution_count": 4,
   "metadata": {},
   "outputs": [
    {
     "name": "stdout",
     "output_type": "stream",
     "text": [
      "TfidfVectorizer(analyzer='word', binary=False, decode_error='strict',\n",
      "                dtype=<class 'numpy.float64'>, encoding='utf-8',\n",
      "                input='content', lowercase=True, max_df=1.0, max_features=30000,\n",
      "                min_df=5, ngram_range=(1, 1), norm='l2', preprocessor=None,\n",
      "                smooth_idf=True, stop_words='english', strip_accents='unicode',\n",
      "                sublinear_tf=False, token_pattern='\\\\w{1,}', tokenizer=None,\n",
      "                use_idf=True, vocabulary=None)\n",
      "Wall time: 37.6 s\n"
     ]
    }
   ],
   "source": [
    "%%time\n",
    "X_train, X_test, y_train, y_test = train_test_split(train_df['Pre_processed'], train_df['Sentiment'], test_size = 0.3, random_state=0, shuffle = True, stratify=train_df['Sentiment'])\n",
    "\n",
    "pipe = make_pipeline(TfidfVectorizer(\n",
    "                                    stop_words='english',\n",
    "                                    strip_accents='unicode',\n",
    "                                    token_pattern=r'\\w{1,}',\n",
    "                                    analyzer='word',\n",
    "                                    ngram_range=(1, 1),\n",
    "                                    min_df=5),\n",
    "                     OneVsRestClassifier(LogisticRegression()))\n",
    "param_grid = {'tfidfvectorizer__max_features': [10000, 30000]} \n",
    "grid = GridSearchCV(pipe, param_grid, cv=3, scoring='roc_auc')\n",
    "grid3 = grid.fit(X_train, y_train)\n",
    "print(grid3.best_estimator_.named_steps['tfidfvectorizer'])\n",
    "\n",
    "vectorizer = TfidfVectorizer(analyzer='word', binary=False, decode_error='strict',\n",
    "                dtype=np.float64, encoding='utf-8',\n",
    "                input='content', lowercase=True, max_df=1.0, max_features=30000,\n",
    "                min_df=5, ngram_range=(1, 3), norm='l2', preprocessor=None,\n",
    "                smooth_idf=True, stop_words=utility.STOP_WORDS, strip_accents='unicode',\n",
    "                sublinear_tf=False, token_pattern='\\\\w{1,}', tokenizer=None,\n",
    "                use_idf=True, vocabulary=None)\n",
    "vectorizer.fit(X_train)\n",
    "X_train_word_features = vectorizer.transform(X_train)\n",
    "X_test_word_features = vectorizer.transform(X_test)"
   ]
  },
  {
   "cell_type": "code",
   "execution_count": 5,
   "metadata": {},
   "outputs": [],
   "source": [
    "def getConfusionMatrixScore(y_test,y_pred):\n",
    "    cm = confusion_matrix(y_test,y_pred)\n",
    "    TN = cm[0][0]\n",
    "    FN = cm[1][0]\n",
    "    TP = cm[1][1]\n",
    "    FP = cm[0][1]\n",
    "    sensitivity  = TP / (TP+FN)\n",
    "    specificity  = TN / (TN+FP)\n",
    "    pos_pred_val = TP/ (TP+FP)\n",
    "    neg_pred_val = TN/ (TN+FN)\n",
    "    return round(sensitivity,3),round(specificity,3),round(pos_pred_val,3),round(neg_pred_val,3)"
   ]
  },
  {
   "cell_type": "code",
   "execution_count": 6,
   "metadata": {},
   "outputs": [
    {
     "name": "stdout",
     "output_type": "stream",
     "text": [
      "-------------------------------------------------------------------------\n",
      "RandomForestClassifier_classifier\n",
      "-------------------------------------------------------------------------\n",
      "              precision    recall  f1-score   support\n",
      "\n",
      "           1       0.88      0.87      0.88      7272\n",
      "           2       0.88      0.89      0.88      7728\n",
      "\n",
      "    accuracy                           0.88     15000\n",
      "   macro avg       0.88      0.88      0.88     15000\n",
      "weighted avg       0.88      0.88      0.88     15000\n",
      "\n",
      "-------------------------------------------------------------------------\n",
      "BernoulliNB_classifier\n",
      "-------------------------------------------------------------------------\n",
      "              precision    recall  f1-score   support\n",
      "\n",
      "           1       0.89      0.85      0.87      7272\n",
      "           2       0.87      0.90      0.88      7728\n",
      "\n",
      "    accuracy                           0.88     15000\n",
      "   macro avg       0.88      0.88      0.88     15000\n",
      "weighted avg       0.88      0.88      0.88     15000\n",
      "\n",
      "-------------------------------------------------------------------------\n",
      "SVC_classifier\n",
      "-------------------------------------------------------------------------\n",
      "              precision    recall  f1-score   support\n",
      "\n",
      "           1       0.90      0.89      0.89      7272\n",
      "           2       0.89      0.90      0.90      7728\n",
      "\n",
      "    accuracy                           0.89     15000\n",
      "   macro avg       0.89      0.89      0.89     15000\n",
      "weighted avg       0.89      0.89      0.89     15000\n",
      "\n",
      "-------------------------------------------------------------------------\n",
      "LogisticRegression_classifier\n",
      "-------------------------------------------------------------------------\n",
      "              precision    recall  f1-score   support\n",
      "\n",
      "           1       0.90      0.88      0.89      7272\n",
      "           2       0.89      0.90      0.90      7728\n",
      "\n",
      "    accuracy                           0.89     15000\n",
      "   macro avg       0.89      0.89      0.89     15000\n",
      "weighted avg       0.89      0.89      0.89     15000\n",
      "\n",
      "-------------------------------------------------------------------------\n",
      "SGDClassifier_classifier\n",
      "-------------------------------------------------------------------------\n",
      "              precision    recall  f1-score   support\n",
      "\n",
      "           1       0.90      0.88      0.89      7272\n",
      "           2       0.89      0.90      0.90      7728\n",
      "\n",
      "    accuracy                           0.89     15000\n",
      "   macro avg       0.89      0.89      0.89     15000\n",
      "weighted avg       0.89      0.89      0.89     15000\n",
      "\n",
      "-------------------------------------------------------------------------\n",
      "LinearSVC_classifier\n",
      "-------------------------------------------------------------------------\n",
      "              precision    recall  f1-score   support\n",
      "\n",
      "           1       0.89      0.88      0.89      7272\n",
      "           2       0.89      0.90      0.90      7728\n",
      "\n",
      "    accuracy                           0.89     15000\n",
      "   macro avg       0.89      0.89      0.89     15000\n",
      "weighted avg       0.89      0.89      0.89     15000\n",
      "\n",
      "-------------------------------------------------------------------------\n",
      "NuSVC_classifier\n",
      "-------------------------------------------------------------------------\n",
      "              precision    recall  f1-score   support\n",
      "\n",
      "           1       0.89      0.88      0.89      7272\n",
      "           2       0.89      0.90      0.90      7728\n",
      "\n",
      "    accuracy                           0.89     15000\n",
      "   macro avg       0.89      0.89      0.89     15000\n",
      "weighted avg       0.89      0.89      0.89     15000\n",
      "\n",
      "Wall time: 47min 40s\n"
     ]
    }
   ],
   "source": [
    "%%time\n",
    "class accuracy_dict(dict): \n",
    "  \n",
    "    # __init__ function \n",
    "    def __init__(self): \n",
    "        self = dict() \n",
    "          \n",
    "    # Function to add key:value \n",
    "    def add(self, key, value): \n",
    "        self[key] = value\n",
    "        \n",
    "    def get(self,key):\n",
    "        return self[key]\n",
    "    \n",
    "scoringDF = pd.DataFrame(columns = ['Classifier', 'Accuracy', 'Precision','Recall','Fscore','Sensitivity','Specificity','Pos_pred_val','Neg_pred_val']) \n",
    "        \n",
    "accuracy_dict = accuracy_dict() \n",
    "print(\"-------------------------------------------------------------------------\")\n",
    "print(\"RandomForestClassifier_classifier\")\n",
    "print(\"-------------------------------------------------------------------------\")\n",
    "RandomForestClassifier_classifier = ExtraTreesClassifier(bootstrap=True, ccp_alpha=0.0, class_weight=None,\n",
    "                     criterion='gini', max_depth=None, max_features='auto',\n",
    "                     max_leaf_nodes=None, max_samples=None,\n",
    "                     min_impurity_decrease=0.0, min_impurity_split=None,\n",
    "                     min_samples_leaf=1, min_samples_split=2,\n",
    "                     min_weight_fraction_leaf=0.0, n_estimators=600, n_jobs=-1,\n",
    "                     oob_score=False, random_state=None, verbose=0,\n",
    "                     warm_start=False)\n",
    "RandomForestClassifier_classifier.fit(X_train_word_features, y_train)\n",
    "y_pred = RandomForestClassifier_classifier.predict(X_test_word_features)\n",
    "print(classification_report(y_test, y_pred))\n",
    "accuracy_dict.add(type(RandomForestClassifier_classifier).__name__,round(accuracy_score(y_test, y_pred, normalize=True),2))\n",
    "precision,recall,fscore,support=score(y_test,y_pred,average='macro')\n",
    "sensitivity,specificity,pos_pred_val,neg_pred_val = getConfusionMatrixScore(y_test,y_pred)\n",
    "accuracy = accuracy_score(y_test, y_pred)\n",
    "scoringDF = scoringDF.append({'Classifier' : type(RandomForestClassifier_classifier).__name__,'Accuracy' : accuracy,\n",
    "                'Precision' : precision,'Recall' : recall,'Fscore' : fscore,'Sensitivity' : sensitivity,\n",
    "                'Specificity' : specificity,'Pos_pred_val' : pos_pred_val,'Neg_pred_val' : neg_pred_val},ignore_index=True) \n",
    "\n",
    "print(\"-------------------------------------------------------------------------\")\n",
    "print(\"BernoulliNB_classifier\")\n",
    "print(\"-------------------------------------------------------------------------\")\n",
    "BernoulliNB_classifier = BernoulliNB(alpha=1.0, binarize=0.0, class_prior=None, fit_prior=True)\n",
    "BernoulliNB_classifier.fit(X_train_word_features, y_train)\n",
    "y_pred = BernoulliNB_classifier.predict(X_test_word_features)\n",
    "print(classification_report(y_test, y_pred))\n",
    "accuracy_dict.add(type(BernoulliNB_classifier).__name__,round(accuracy_score(y_test, y_pred, normalize=True),2))\n",
    "precision,recall,fscore,support=score(y_test,y_pred,average='macro')\n",
    "sensitivity,specificity,pos_pred_val,neg_pred_val = getConfusionMatrixScore(y_test,y_pred)\n",
    "accuracy = accuracy_score(y_test, y_pred)\n",
    "scoringDF = scoringDF.append({'Classifier' : type(BernoulliNB_classifier).__name__,'Accuracy' : accuracy,\n",
    "                'Precision' : precision,'Recall' : recall,'Fscore' : fscore,'Sensitivity' : sensitivity,\n",
    "                'Specificity' : specificity,'Pos_pred_val' : pos_pred_val,'Neg_pred_val' : neg_pred_val},ignore_index=True) \n",
    "\n",
    "\n",
    "print(\"-------------------------------------------------------------------------\")\n",
    "print(\"SVC_classifier\")\n",
    "print(\"-------------------------------------------------------------------------\")\n",
    "SVC_classifier = SVC()\n",
    "SVC_classifier.fit(X_train_word_features, y_train)\n",
    "y_pred = SVC_classifier.predict(X_test_word_features)\n",
    "print(classification_report(y_test, y_pred))\n",
    "accuracy_dict.add(type(SVC_classifier).__name__,round(accuracy_score(y_test, y_pred, normalize=True),2))\n",
    "precision,recall,fscore,support=score(y_test,y_pred,average='macro')\n",
    "sensitivity,specificity,pos_pred_val,neg_pred_val = getConfusionMatrixScore(y_test,y_pred)\n",
    "accuracy = accuracy_score(y_test, y_pred)\n",
    "scoringDF = scoringDF.append({'Classifier' : type(SVC_classifier).__name__,'Accuracy' : accuracy,\n",
    "                'Precision' : precision,'Recall' : recall,'Fscore' : fscore,'Sensitivity' : sensitivity,\n",
    "                'Specificity' : specificity,'Pos_pred_val' : pos_pred_val,'Neg_pred_val' : neg_pred_val},ignore_index=True) \n",
    "\n",
    "\n",
    "print(\"-------------------------------------------------------------------------\")\n",
    "print(\"LogisticRegression_classifier\")\n",
    "print(\"-------------------------------------------------------------------------\")\n",
    "LogisticRegression_classifier = LogisticRegression(C=1.0, class_weight=None, dual=False, fit_intercept=True,\n",
    "                   intercept_scaling=1, l1_ratio=None, max_iter=100,\n",
    "                   multi_class='auto', n_jobs=None, penalty='l2',\n",
    "                   random_state=None, solver='lbfgs', tol=0.0001, verbose=0,\n",
    "                   warm_start=False)\n",
    "LogisticRegression_classifier.fit(X_train_word_features, y_train)\n",
    "y_pred = LogisticRegression_classifier.predict(X_test_word_features)\n",
    "print(classification_report(y_test, y_pred))\n",
    "accuracy_dict.add(type(LogisticRegression_classifier).__name__,round(accuracy_score(y_test, y_pred, normalize=True),2))\n",
    "precision,recall,fscore,support=score(y_test,y_pred,average='macro')\n",
    "sensitivity,specificity,pos_pred_val,neg_pred_val = getConfusionMatrixScore(y_test,y_pred)\n",
    "accuracy = accuracy_score(y_test, y_pred)\n",
    "scoringDF = scoringDF.append({'Classifier' : type(LogisticRegression_classifier).__name__,'Accuracy' : accuracy,\n",
    "                'Precision' : precision,'Recall' : recall,'Fscore' : fscore,'Sensitivity' : sensitivity,\n",
    "                'Specificity' : specificity,'Pos_pred_val' : pos_pred_val,'Neg_pred_val' : neg_pred_val},ignore_index=True) \n",
    "\n",
    "\n",
    "print(\"-------------------------------------------------------------------------\")\n",
    "print(\"SGDClassifier_classifier\")\n",
    "print(\"-------------------------------------------------------------------------\")\n",
    "SGDClassifier_classifier = SGDClassifier(alpha=0.0001, average=False, class_weight=None,\n",
    "              early_stopping=False, epsilon=0.1, eta0=0.0, fit_intercept=True,\n",
    "              l1_ratio=0.15, learning_rate='optimal', loss='hinge',\n",
    "              max_iter=1000, n_iter_no_change=5, n_jobs=None, penalty='l2',\n",
    "              power_t=0.5, random_state=None, shuffle=True, tol=0.001,\n",
    "              validation_fraction=0.1, verbose=0, warm_start=False)\n",
    "SGDClassifier_classifier.fit(X_train_word_features, y_train)\n",
    "y_pred = SGDClassifier_classifier.predict(X_test_word_features)\n",
    "print(classification_report(y_test, y_pred))\n",
    "accuracy_dict.add(type(SGDClassifier_classifier).__name__,round(accuracy_score(y_test, y_pred, normalize=True),2))\n",
    "precision,recall,fscore,support=score(y_test,y_pred,average='macro')\n",
    "sensitivity,specificity,pos_pred_val,neg_pred_val = getConfusionMatrixScore(y_test,y_pred)\n",
    "accuracy = accuracy_score(y_test, y_pred)\n",
    "scoringDF = scoringDF.append({'Classifier' : type(SGDClassifier_classifier).__name__,'Accuracy' : accuracy,\n",
    "                'Precision' : precision,'Recall' : recall,'Fscore' : fscore,'Sensitivity' : sensitivity,\n",
    "                'Specificity' : specificity,'Pos_pred_val' : pos_pred_val,'Neg_pred_val' : neg_pred_val},ignore_index=True) \n",
    "\n",
    "\n",
    "print(\"-------------------------------------------------------------------------\")\n",
    "print(\"LinearSVC_classifier\")\n",
    "print(\"-------------------------------------------------------------------------\")\n",
    "LinearSVC_classifier = LinearSVC(C=1.0, class_weight=None, dual=True, fit_intercept=True,\n",
    "          intercept_scaling=1, loss='squared_hinge', max_iter=1000,\n",
    "          multi_class='ovr', penalty='l2', random_state=None, tol=0.0001,\n",
    "          verbose=0)\n",
    "LinearSVC_classifier.fit(X_train_word_features, y_train)\n",
    "y_pred = LinearSVC_classifier.predict(X_test_word_features)\n",
    "print(classification_report(y_test, y_pred))\n",
    "accuracy_dict.add(type(LinearSVC_classifier).__name__,round(accuracy_score(y_test, y_pred, normalize=True),2))\n",
    "precision,recall,fscore,support=score(y_test,y_pred,average='macro')\n",
    "sensitivity,specificity,pos_pred_val,neg_pred_val = getConfusionMatrixScore(y_test,y_pred)\n",
    "accuracy = accuracy_score(y_test, y_pred)\n",
    "scoringDF = scoringDF.append({'Classifier' : type(LinearSVC_classifier).__name__,'Accuracy' : accuracy,\n",
    "                'Precision' : precision,'Recall' : recall,'Fscore' : fscore,'Sensitivity' : sensitivity,\n",
    "                'Specificity' : specificity,'Pos_pred_val' : pos_pred_val,'Neg_pred_val' : neg_pred_val},ignore_index=True) \n",
    "\n",
    "\n",
    "print(\"-------------------------------------------------------------------------\")\n",
    "print(\"NuSVC_classifier\")\n",
    "print(\"-------------------------------------------------------------------------\")\n",
    "NuSVC_classifier = NuSVC(break_ties=False, cache_size=200, class_weight=None, coef0=0.0,\n",
    "      decision_function_shape='ovr', degree=3, gamma='scale', kernel='rbf',\n",
    "      max_iter=-1, nu=0.5, probability=False, random_state=None, shrinking=True,\n",
    "      tol=0.001, verbose=False)\n",
    "NuSVC_classifier.fit(X_train_word_features, y_train)\n",
    "y_pred = NuSVC_classifier.predict(X_test_word_features)\n",
    "print(classification_report(y_test, y_pred))\n",
    "accuracy_dict.add(type(NuSVC_classifier).__name__,round(accuracy_score(y_test, y_pred, normalize=True),2))\n",
    "precision,recall,fscore,support=score(y_test,y_pred,average='macro')\n",
    "sensitivity,specificity,pos_pred_val,neg_pred_val = getConfusionMatrixScore(y_test,y_pred)\n",
    "accuracy = accuracy_score(y_test, y_pred)\n",
    "scoringDF = scoringDF.append({'Classifier' : type(NuSVC_classifier).__name__,'Accuracy' : accuracy,\n",
    "                'Precision' : precision,'Recall' : recall,'Fscore' : fscore,'Sensitivity' : sensitivity,\n",
    "                'Specificity' : specificity,'Pos_pred_val' : pos_pred_val,'Neg_pred_val' : neg_pred_val},ignore_index=True) \n"
   ]
  },
  {
   "cell_type": "code",
   "execution_count": 7,
   "metadata": {},
   "outputs": [
    {
     "data": {
      "text/plain": [
       "{'ExtraTreesClassifier': 0.88,\n",
       " 'BernoulliNB': 0.88,\n",
       " 'SVC': 0.89,\n",
       " 'LogisticRegression': 0.89,\n",
       " 'SGDClassifier': 0.89,\n",
       " 'LinearSVC': 0.89,\n",
       " 'NuSVC': 0.89}"
      ]
     },
     "execution_count": 7,
     "metadata": {},
     "output_type": "execute_result"
    }
   ],
   "source": [
    "accuracy_dict"
   ]
  },
  {
   "cell_type": "code",
   "execution_count": 8,
   "metadata": {},
   "outputs": [
    {
     "name": "stderr",
     "output_type": "stream",
     "text": [
      "100%|██████████| 15000/15000 [40:34<00:00,  6.16it/s] \n"
     ]
    },
    {
     "name": "stdout",
     "output_type": "stream",
     "text": [
      "-------------------------------------------------------------------------\n",
      "Final Classifier\n",
      "-------------------------------------------------------------------------\n",
      "              precision    recall  f1-score   support\n",
      "\n",
      "           1       0.90      0.89      0.89      7272\n",
      "           2       0.89      0.90      0.90      7728\n",
      "\n",
      "    accuracy                           0.90     15000\n",
      "   macro avg       0.90      0.90      0.90     15000\n",
      "weighted avg       0.90      0.90      0.90     15000\n",
      "\n"
     ]
    }
   ],
   "source": [
    "scoreVecClassifier = ScoreVecClassifier(RandomForestClassifier_classifier,\n",
    "                                  BernoulliNB_classifier,\n",
    "                                  SVC_classifier,\n",
    "                                  LogisticRegression_classifier,\n",
    "                                  SGDClassifier_classifier,\n",
    "                                  LinearSVC_classifier,\n",
    "                                  NuSVC_classifier)\n",
    "\n",
    "y_pred_list=[]\n",
    "accuracy_dictString = json.dumps(accuracy_dict)\n",
    "accuracy_dict=ast.literal_eval(accuracy_dictString)\n",
    "for i in tqdm(range(len(X_test))):\n",
    "    y_pred_list.append(scoreVecClassifier.predict(X_test_word_features[i]))\n",
    "y_pred = pd.Series(y_pred_list)\n",
    "print(\"-------------------------------------------------------------------------\")\n",
    "print(\"Final Classifier\")\n",
    "print(\"-------------------------------------------------------------------------\")\n",
    "print(classification_report(y_test, y_pred))\n",
    "precision,recall,fscore,support=score(y_test,y_pred,average='macro')\n",
    "sensitivity,specificity,pos_pred_val,neg_pred_val = getConfusionMatrixScore(y_test,y_pred)\n",
    "accuracy = accuracy_score(y_test, y_pred)\n",
    "scoringDF = scoringDF.append({'Classifier' : type(scoreVecClassifier).__name__,'Accuracy' : accuracy,\n",
    "                'Precision' : precision,'Recall' : recall,'Fscore' : fscore,'Sensitivity' : sensitivity,\n",
    "                'Specificity' : specificity,'Pos_pred_val' : pos_pred_val,'Neg_pred_val' : neg_pred_val},ignore_index=True) "
   ]
  },
  {
   "cell_type": "code",
   "execution_count": 12,
   "metadata": {},
   "outputs": [
    {
     "data": {
      "text/plain": [
       "<matplotlib.axes._subplots.AxesSubplot at 0x22b58103048>"
      ]
     },
     "execution_count": 12,
     "metadata": {},
     "output_type": "execute_result"
    },
    {
     "data": {
      "image/png": "[encoded data removed]",
      "text/plain": [
       "<Figure size 720x720 with 2 Axes>"
      ]
     },
     "metadata": {},
     "output_type": "display_data"
    }
   ],
   "source": [
    "cm = confusion_matrix(y_test,y_pred)\n",
    "cm = pd.DataFrame(cm)\n",
    "plt.figure(figsize = (10,10))\n",
    "sns.heatmap(cm,cmap= \"Blues\", linecolor = 'black' , linewidth = 1 , annot = True, fmt='')"
   ]
  },
  {
   "cell_type": "code",
   "execution_count": 10,
   "metadata": {},
   "outputs": [
    {
     "name": "stdout",
     "output_type": "stream",
     "text": [
      "Wall time: 8.33 s\n"
     ]
    }
   ],
   "source": [
    "%%time\n",
    "save_classifier = open(\"ScoreVecClassifier.pickle\",\"wb\")\n",
    "pickle.dump(scoreVecClassifier, save_classifier)\n",
    "save_classifier.close()\n",
    "\n",
    "pickl = {\n",
    "    'vectorizer': vectorizer,\n",
    "    'classifier': scoreVecClassifier,\n",
    "    'accuracy_dict': accuracy_dictString\n",
    "}\n",
    "pickle.dump( pickl, open( 'ScoreVecClassifierCLass1' + \".pickle\", \"wb\" ) )"
   ]
  },
  {
   "cell_type": "code",
   "execution_count": 13,
   "metadata": {},
   "outputs": [
    {
     "data": {
      "text/html": [
       "<style  type=\"text/css\" >\n",
       "#T_2dd60_row2_col8,#T_2dd60_row7_col1,#T_2dd60_row7_col2,#T_2dd60_row7_col3,#T_2dd60_row7_col4,#T_2dd60_row7_col5,#T_2dd60_row7_col6,#T_2dd60_row7_col7,#T_2dd60_row7_col8{\n",
       "            background-color:  pink;\n",
       "        }</style><table id=\"T_2dd60_\" ><thead>    <tr>        <th class=\"blank level0\" ></th>        <th class=\"col_heading level0 col0\" >Classifier</th>        <th class=\"col_heading level0 col1\" >Accuracy</th>        <th class=\"col_heading level0 col2\" >Precision</th>        <th class=\"col_heading level0 col3\" >Recall</th>        <th class=\"col_heading level0 col4\" >Fscore</th>        <th class=\"col_heading level0 col5\" >Sensitivity</th>        <th class=\"col_heading level0 col6\" >Specificity</th>        <th class=\"col_heading level0 col7\" >Pos_pred_val</th>        <th class=\"col_heading level0 col8\" >Neg_pred_val</th>    </tr></thead><tbody>\n",
       "                <tr>\n",
       "                        <th id=\"T_2dd60_level0_row0\" class=\"row_heading level0 row0\" >0</th>\n",
       "                        <td id=\"T_2dd60_row0_col0\" class=\"data row0 col0\" >ExtraTreesClassifier</td>\n",
       "                        <td id=\"T_2dd60_row0_col1\" class=\"data row0 col1\" >0.879933</td>\n",
       "                        <td id=\"T_2dd60_row0_col2\" class=\"data row0 col2\" >0.879864</td>\n",
       "                        <td id=\"T_2dd60_row0_col3\" class=\"data row0 col3\" >0.879755</td>\n",
       "                        <td id=\"T_2dd60_row0_col4\" class=\"data row0 col4\" >0.879806</td>\n",
       "                        <td id=\"T_2dd60_row0_col5\" class=\"data row0 col5\" >0.886000</td>\n",
       "                        <td id=\"T_2dd60_row0_col6\" class=\"data row0 col6\" >0.874000</td>\n",
       "                        <td id=\"T_2dd60_row0_col7\" class=\"data row0 col7\" >0.882000</td>\n",
       "                        <td id=\"T_2dd60_row0_col8\" class=\"data row0 col8\" >0.878000</td>\n",
       "            </tr>\n",
       "            <tr>\n",
       "                        <th id=\"T_2dd60_level0_row1\" class=\"row_heading level0 row1\" >1</th>\n",
       "                        <td id=\"T_2dd60_row1_col0\" class=\"data row1 col0\" >BernoulliNB</td>\n",
       "                        <td id=\"T_2dd60_row1_col1\" class=\"data row1 col1\" >0.875667</td>\n",
       "                        <td id=\"T_2dd60_row1_col2\" class=\"data row1 col2\" >0.876293</td>\n",
       "                        <td id=\"T_2dd60_row1_col3\" class=\"data row1 col3\" >0.875014</td>\n",
       "                        <td id=\"T_2dd60_row1_col4\" class=\"data row1 col4\" >0.875379</td>\n",
       "                        <td id=\"T_2dd60_row1_col5\" class=\"data row1 col5\" >0.896000</td>\n",
       "                        <td id=\"T_2dd60_row1_col6\" class=\"data row1 col6\" >0.854000</td>\n",
       "                        <td id=\"T_2dd60_row1_col7\" class=\"data row1 col7\" >0.867000</td>\n",
       "                        <td id=\"T_2dd60_row1_col8\" class=\"data row1 col8\" >0.886000</td>\n",
       "            </tr>\n",
       "            <tr>\n",
       "                        <th id=\"T_2dd60_level0_row2\" class=\"row_heading level0 row2\" >2</th>\n",
       "                        <td id=\"T_2dd60_row2_col0\" class=\"data row2 col0\" >SVC</td>\n",
       "                        <td id=\"T_2dd60_row2_col1\" class=\"data row2 col1\" >0.894867</td>\n",
       "                        <td id=\"T_2dd60_row2_col2\" class=\"data row2 col2\" >0.894940</td>\n",
       "                        <td id=\"T_2dd60_row2_col3\" class=\"data row2 col3\" >0.894581</td>\n",
       "                        <td id=\"T_2dd60_row2_col4\" class=\"data row2 col4\" >0.894726</td>\n",
       "                        <td id=\"T_2dd60_row2_col5\" class=\"data row2 col5\" >0.904000</td>\n",
       "                        <td id=\"T_2dd60_row2_col6\" class=\"data row2 col6\" >0.885000</td>\n",
       "                        <td id=\"T_2dd60_row2_col7\" class=\"data row2 col7\" >0.893000</td>\n",
       "                        <td id=\"T_2dd60_row2_col8\" class=\"data row2 col8\" >0.897000</td>\n",
       "            </tr>\n",
       "            <tr>\n",
       "                        <th id=\"T_2dd60_level0_row3\" class=\"row_heading level0 row3\" >3</th>\n",
       "                        <td id=\"T_2dd60_row3_col0\" class=\"data row3 col0\" >LogisticRegression</td>\n",
       "                        <td id=\"T_2dd60_row3_col1\" class=\"data row3 col1\" >0.892267</td>\n",
       "                        <td id=\"T_2dd60_row3_col2\" class=\"data row3 col2\" >0.892447</td>\n",
       "                        <td id=\"T_2dd60_row3_col3\" class=\"data row3 col3\" >0.891895</td>\n",
       "                        <td id=\"T_2dd60_row3_col4\" class=\"data row3 col4\" >0.892100</td>\n",
       "                        <td id=\"T_2dd60_row3_col5\" class=\"data row3 col5\" >0.904000</td>\n",
       "                        <td id=\"T_2dd60_row3_col6\" class=\"data row3 col6\" >0.880000</td>\n",
       "                        <td id=\"T_2dd60_row3_col7\" class=\"data row3 col7\" >0.889000</td>\n",
       "                        <td id=\"T_2dd60_row3_col8\" class=\"data row3 col8\" >0.896000</td>\n",
       "            </tr>\n",
       "            <tr>\n",
       "                        <th id=\"T_2dd60_level0_row4\" class=\"row_heading level0 row4\" >4</th>\n",
       "                        <td id=\"T_2dd60_row4_col0\" class=\"data row4 col0\" >SGDClassifier</td>\n",
       "                        <td id=\"T_2dd60_row4_col1\" class=\"data row4 col1\" >0.893800</td>\n",
       "                        <td id=\"T_2dd60_row4_col2\" class=\"data row4 col2\" >0.893876</td>\n",
       "                        <td id=\"T_2dd60_row4_col3\" class=\"data row4 col3\" >0.893509</td>\n",
       "                        <td id=\"T_2dd60_row4_col4\" class=\"data row4 col4\" >0.893657</td>\n",
       "                        <td id=\"T_2dd60_row4_col5\" class=\"data row4 col5\" >0.903000</td>\n",
       "                        <td id=\"T_2dd60_row4_col6\" class=\"data row4 col6\" >0.884000</td>\n",
       "                        <td id=\"T_2dd60_row4_col7\" class=\"data row4 col7\" >0.892000</td>\n",
       "                        <td id=\"T_2dd60_row4_col8\" class=\"data row4 col8\" >0.896000</td>\n",
       "            </tr>\n",
       "            <tr>\n",
       "                        <th id=\"T_2dd60_level0_row5\" class=\"row_heading level0 row5\" >5</th>\n",
       "                        <td id=\"T_2dd60_row5_col0\" class=\"data row5 col0\" >LinearSVC</td>\n",
       "                        <td id=\"T_2dd60_row5_col1\" class=\"data row5 col1\" >0.891467</td>\n",
       "                        <td id=\"T_2dd60_row5_col2\" class=\"data row5 col2\" >0.891481</td>\n",
       "                        <td id=\"T_2dd60_row5_col3\" class=\"data row5 col3\" >0.891224</td>\n",
       "                        <td id=\"T_2dd60_row5_col4\" class=\"data row5 col4\" >0.891333</td>\n",
       "                        <td id=\"T_2dd60_row5_col5\" class=\"data row5 col5\" >0.899000</td>\n",
       "                        <td id=\"T_2dd60_row5_col6\" class=\"data row5 col6\" >0.883000</td>\n",
       "                        <td id=\"T_2dd60_row5_col7\" class=\"data row5 col7\" >0.891000</td>\n",
       "                        <td id=\"T_2dd60_row5_col8\" class=\"data row5 col8\" >0.892000</td>\n",
       "            </tr>\n",
       "            <tr>\n",
       "                        <th id=\"T_2dd60_level0_row6\" class=\"row_heading level0 row6\" >6</th>\n",
       "                        <td id=\"T_2dd60_row6_col0\" class=\"data row6 col0\" >NuSVC</td>\n",
       "                        <td id=\"T_2dd60_row6_col1\" class=\"data row6 col1\" >0.891333</td>\n",
       "                        <td id=\"T_2dd60_row6_col2\" class=\"data row6 col2\" >0.891438</td>\n",
       "                        <td id=\"T_2dd60_row6_col3\" class=\"data row6 col3\" >0.891014</td>\n",
       "                        <td id=\"T_2dd60_row6_col4\" class=\"data row6 col4\" >0.891179</td>\n",
       "                        <td id=\"T_2dd60_row6_col5\" class=\"data row6 col5\" >0.902000</td>\n",
       "                        <td id=\"T_2dd60_row6_col6\" class=\"data row6 col6\" >0.881000</td>\n",
       "                        <td id=\"T_2dd60_row6_col7\" class=\"data row6 col7\" >0.889000</td>\n",
       "                        <td id=\"T_2dd60_row6_col8\" class=\"data row6 col8\" >0.894000</td>\n",
       "            </tr>\n",
       "            <tr>\n",
       "                        <th id=\"T_2dd60_level0_row7\" class=\"row_heading level0 row7\" >7</th>\n",
       "                        <td id=\"T_2dd60_row7_col0\" class=\"data row7 col0\" >ScoreVecClassifier</td>\n",
       "                        <td id=\"T_2dd60_row7_col1\" class=\"data row7 col1\" >0.895467</td>\n",
       "                        <td id=\"T_2dd60_row7_col2\" class=\"data row7 col2\" >0.895543</td>\n",
       "                        <td id=\"T_2dd60_row7_col3\" class=\"data row7 col3\" >0.895179</td>\n",
       "                        <td id=\"T_2dd60_row7_col4\" class=\"data row7 col4\" >0.895326</td>\n",
       "                        <td id=\"T_2dd60_row7_col5\" class=\"data row7 col5\" >0.905000</td>\n",
       "                        <td id=\"T_2dd60_row7_col6\" class=\"data row7 col6\" >0.886000</td>\n",
       "                        <td id=\"T_2dd60_row7_col7\" class=\"data row7 col7\" >0.894000</td>\n",
       "                        <td id=\"T_2dd60_row7_col8\" class=\"data row7 col8\" >0.897000</td>\n",
       "            </tr>\n",
       "    </tbody></table>"
      ],
      "text/plain": [
       "<pandas.io.formats.style.Styler at 0x22b54b68908>"
      ]
     },
     "execution_count": 13,
     "metadata": {},
     "output_type": "execute_result"
    }
   ],
   "source": [
    "scoringDF\n",
    "scoringDF.style.highlight_max(color = 'pink', axis = 0)"
   ]
  },
  {
   "cell_type": "code",
   "execution_count": null,
   "metadata": {},
   "outputs": [],
   "source": []
  }
 ],
 "metadata": {
  "kernelspec": {
   "display_name": "Python 3",
   "language": "python",
   "name": "python3"
  },
  "language_info": {
   "codemirror_mode": {
    "name": "ipython",
    "version": 3
   },
   "file_extension": ".py",
   "mimetype": "text/x-python",
   "name": "python",
   "nbconvert_exporter": "python",
   "pygments_lexer": "ipython3",
   "version": "3.7.6"
  }
 },
 "nbformat": 4,
 "nbformat_minor": 4
}
